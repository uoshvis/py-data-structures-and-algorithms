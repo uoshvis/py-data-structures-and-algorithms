{
 "cells": [
  {
   "cell_type": "code",
   "execution_count": 1,
   "id": "bdb8fe29",
   "metadata": {},
   "outputs": [],
   "source": [
    "def factorial(n):\n",
    "    if n == 0:\n",
    "        return 1\n",
    "    else:\n",
    "        return n*factorial(n-1)"
   ]
  },
  {
   "cell_type": "code",
   "execution_count": 2,
   "id": "c7131606",
   "metadata": {},
   "outputs": [
    {
     "data": {
      "text/plain": [
       "120"
      ]
     },
     "execution_count": 2,
     "metadata": {},
     "output_type": "execute_result"
    }
   ],
   "source": [
    "factorial(5)"
   ]
  },
  {
   "cell_type": "code",
   "execution_count": 4,
   "id": "f4764c56",
   "metadata": {},
   "outputs": [],
   "source": [
    "def binary_search(data, target, low, high):\n",
    "    if low > high:\n",
    "        return False\n",
    "    else:\n",
    "        mid = (low + high) // 2\n",
    "        if target == data[mid]:\n",
    "            return True\n",
    "        elif target < data[mid]:\n",
    "            return binary_search(data, target, low, mid - 1)\n",
    "        else:\n",
    "            return binary_search(data, target, mid + 1, high)\n"
   ]
  },
  {
   "cell_type": "code",
   "execution_count": 14,
   "id": "779294cb",
   "metadata": {},
   "outputs": [],
   "source": [
    "data = [22,23,24,28,30,40,56,89,101,140,158,164,170,171]\n",
    "target = 28\n",
    "low = 0\n",
    "high = len(data) - 1 "
   ]
  },
  {
   "cell_type": "code",
   "execution_count": 15,
   "id": "c54f9f8f",
   "metadata": {},
   "outputs": [
    {
     "data": {
      "text/plain": [
       "True"
      ]
     },
     "execution_count": 15,
     "metadata": {},
     "output_type": "execute_result"
    }
   ],
   "source": [
    "binary_search(data, target, low, high)"
   ]
  },
  {
   "cell_type": "code",
   "execution_count": 16,
   "id": "9a6d38c5",
   "metadata": {},
   "outputs": [],
   "source": [
    "def good_fibonacci(n):\n",
    "    if n <=1:\n",
    "        return (n,0)\n",
    "    else:\n",
    "        (a, b) = good_fibonacci(n-1)\n",
    "        return (a+b, a)"
   ]
  },
  {
   "cell_type": "code",
   "execution_count": 19,
   "id": "5644dff0",
   "metadata": {},
   "outputs": [
    {
     "data": {
      "text/plain": [
       "(89, 55)"
      ]
     },
     "execution_count": 19,
     "metadata": {},
     "output_type": "execute_result"
    }
   ],
   "source": [
    "good_fibonacci(11)"
   ]
  },
  {
   "cell_type": "code",
   "execution_count": 20,
   "id": "0279651c",
   "metadata": {},
   "outputs": [
    {
     "data": {
      "text/plain": [
       "3000"
      ]
     },
     "execution_count": 20,
     "metadata": {},
     "output_type": "execute_result"
    }
   ],
   "source": [
    "import sys\n",
    "sys.getrecursionlimit()"
   ]
  },
  {
   "cell_type": "code",
   "execution_count": 21,
   "id": "5cd89ef2",
   "metadata": {},
   "outputs": [],
   "source": [
    "def linear_sum(S, n):\n",
    "    if n == 0:\n",
    "        return 0\n",
    "    else:\n",
    "        return linear_sum(S, n-1) + S[n-1]"
   ]
  },
  {
   "cell_type": "code",
   "execution_count": 25,
   "id": "9821009d",
   "metadata": {},
   "outputs": [
    {
     "data": {
      "text/plain": [
       "15"
      ]
     },
     "execution_count": 25,
     "metadata": {},
     "output_type": "execute_result"
    }
   ],
   "source": [
    "linear_sum([5, 2, 3, 5, 1, 20], 4)"
   ]
  },
  {
   "cell_type": "code",
   "execution_count": 26,
   "id": "5df39738",
   "metadata": {},
   "outputs": [],
   "source": [
    "def counter(func):\n",
    "    func.count += 1"
   ]
  },
  {
   "cell_type": "code",
   "execution_count": 27,
   "id": "8876ce23",
   "metadata": {},
   "outputs": [],
   "source": [
    "def power(x, n):\n",
    "    \"\"\"Compute the value x**n for integer n.\"\"\"\n",
    "    counter(power)\n",
    "    if n == 0:\n",
    "        return 1\n",
    "    else:\n",
    "        partial = power(x, n//2)\n",
    "        result = partial * partial\n",
    "        if n%2 == 1:\n",
    "            result *= x\n",
    "        return result"
   ]
  },
  {
   "cell_type": "code",
   "execution_count": 30,
   "id": "e04a80e7",
   "metadata": {},
   "outputs": [
    {
     "name": "stdout",
     "output_type": "stream",
     "text": [
      "1099511627776\n",
      "# Called:  7\n"
     ]
    }
   ],
   "source": [
    "power.count = 0\n",
    "print(power(2, 40))\n",
    "print(\"# Called: \", power.count)"
   ]
  },
  {
   "cell_type": "code",
   "execution_count": null,
   "id": "a741d9ae",
   "metadata": {},
   "outputs": [],
   "source": []
  }
 ],
 "metadata": {
  "kernelspec": {
   "display_name": "Python 3",
   "language": "python",
   "name": "python3"
  },
  "language_info": {
   "codemirror_mode": {
    "name": "ipython",
    "version": 3
   },
   "file_extension": ".py",
   "mimetype": "text/x-python",
   "name": "python",
   "nbconvert_exporter": "python",
   "pygments_lexer": "ipython3",
   "version": "3.7.3"
  }
 },
 "nbformat": 4,
 "nbformat_minor": 5
}

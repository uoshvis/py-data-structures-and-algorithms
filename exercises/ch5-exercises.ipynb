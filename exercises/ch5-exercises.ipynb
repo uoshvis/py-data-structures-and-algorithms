{
 "cells": [
  {
   "cell_type": "code",
   "execution_count": 1,
   "id": "589e6e0f",
   "metadata": {},
   "outputs": [
    {
     "name": "stdout",
     "output_type": "stream",
     "text": [
      "Length:   0; size in bytes:   64\n",
      "Length:   1; size in bytes:   96\t\tA jump of: 32 bytes, or a ratio of 1.5\n",
      "Length:   2; size in bytes:   96\n",
      "Length:   3; size in bytes:   96\n",
      "Length:   4; size in bytes:   96\n",
      "Length:   5; size in bytes:  128\t\tA jump of: 32 bytes, or a ratio of 1.3333333333333333\n",
      "Length:   6; size in bytes:  128\n",
      "Length:   7; size in bytes:  128\n",
      "Length:   8; size in bytes:  128\n",
      "Length:   9; size in bytes:  192\t\tA jump of: 64 bytes, or a ratio of 1.5\n",
      "Length:  10; size in bytes:  192\n",
      "Length:  11; size in bytes:  192\n",
      "Length:  12; size in bytes:  192\n",
      "Length:  13; size in bytes:  192\n",
      "Length:  14; size in bytes:  192\n",
      "Length:  15; size in bytes:  192\n",
      "Length:  16; size in bytes:  192\n",
      "Length:  17; size in bytes:  264\t\tA jump of: 72 bytes, or a ratio of 1.375\n",
      "Length:  18; size in bytes:  264\n",
      "Length:  19; size in bytes:  264\n",
      "Length:  20; size in bytes:  264\n",
      "Length:  21; size in bytes:  264\n",
      "Length:  22; size in bytes:  264\n",
      "Length:  23; size in bytes:  264\n",
      "Length:  24; size in bytes:  264\n",
      "Length:  25; size in bytes:  264\n",
      "Length:  26; size in bytes:  344\t\tA jump of: 80 bytes, or a ratio of 1.303030303030303\n",
      "Length:  27; size in bytes:  344\n",
      "Length:  28; size in bytes:  344\n",
      "Length:  29; size in bytes:  344\n",
      "Length:  30; size in bytes:  344\n",
      "Length:  31; size in bytes:  344\n",
      "Length:  32; size in bytes:  344\n",
      "Length:  33; size in bytes:  344\n",
      "Length:  34; size in bytes:  344\n",
      "Length:  35; size in bytes:  344\n",
      "Length:  36; size in bytes:  432\t\tA jump of: 88 bytes, or a ratio of 1.255813953488372\n",
      "Length:  37; size in bytes:  432\n",
      "Length:  38; size in bytes:  432\n",
      "Length:  39; size in bytes:  432\n",
      "Length:  40; size in bytes:  432\n",
      "Length:  41; size in bytes:  432\n",
      "Length:  42; size in bytes:  432\n",
      "Length:  43; size in bytes:  432\n",
      "Length:  44; size in bytes:  432\n",
      "Length:  45; size in bytes:  432\n",
      "Length:  46; size in bytes:  432\n",
      "Length:  47; size in bytes:  528\t\tA jump of: 96 bytes, or a ratio of 1.2222222222222223\n",
      "Length:  48; size in bytes:  528\n",
      "Length:  49; size in bytes:  528\n",
      "Length:  50; size in bytes:  528\n",
      "Length:  51; size in bytes:  528\n",
      "Length:  52; size in bytes:  528\n",
      "Length:  53; size in bytes:  528\n",
      "Length:  54; size in bytes:  528\n",
      "Length:  55; size in bytes:  528\n",
      "Length:  56; size in bytes:  528\n",
      "Length:  57; size in bytes:  528\n",
      "Length:  58; size in bytes:  528\n",
      "Length:  59; size in bytes:  640\t\tA jump of: 112 bytes, or a ratio of 1.2121212121212122\n",
      "Length:  60; size in bytes:  640\n",
      "Length:  61; size in bytes:  640\n",
      "Length:  62; size in bytes:  640\n",
      "Length:  63; size in bytes:  640\n",
      "Length:  64; size in bytes:  640\n",
      "Length:  65; size in bytes:  640\n",
      "Length:  66; size in bytes:  640\n",
      "Length:  67; size in bytes:  640\n",
      "Length:  68; size in bytes:  640\n",
      "Length:  69; size in bytes:  640\n",
      "Length:  70; size in bytes:  640\n",
      "Length:  71; size in bytes:  640\n",
      "Length:  72; size in bytes:  640\n",
      "Length:  73; size in bytes:  768\t\tA jump of: 128 bytes, or a ratio of 1.2\n",
      "Length:  74; size in bytes:  768\n",
      "Length:  75; size in bytes:  768\n",
      "Length:  76; size in bytes:  768\n",
      "Length:  77; size in bytes:  768\n",
      "Length:  78; size in bytes:  768\n",
      "Length:  79; size in bytes:  768\n",
      "Length:  80; size in bytes:  768\n",
      "Length:  81; size in bytes:  768\n",
      "Length:  82; size in bytes:  768\n",
      "Length:  83; size in bytes:  768\n",
      "Length:  84; size in bytes:  768\n",
      "Length:  85; size in bytes:  768\n",
      "Length:  86; size in bytes:  768\n",
      "Length:  87; size in bytes:  768\n",
      "Length:  88; size in bytes:  768\n",
      "Length:  89; size in bytes:  912\t\tA jump of: 144 bytes, or a ratio of 1.1875\n",
      "Length:  90; size in bytes:  912\n",
      "Length:  91; size in bytes:  912\n",
      "Length:  92; size in bytes:  912\n",
      "Length:  93; size in bytes:  912\n",
      "Length:  94; size in bytes:  912\n",
      "Length:  95; size in bytes:  912\n",
      "Length:  96; size in bytes:  912\n",
      "Length:  97; size in bytes:  912\n",
      "Length:  98; size in bytes:  912\n",
      "Length:  99; size in bytes:  912\n"
     ]
    }
   ],
   "source": [
    "\n",
    "#--------------R5-1----------------\n",
    "import sys\n",
    "\n",
    "\n",
    "def func1(n):\n",
    "    data = []\n",
    "    b_old = sys.getsizeof(data)\n",
    "    for k in range(n):\n",
    "        \n",
    "        a = len(data)\n",
    "        b = sys.getsizeof(data)\n",
    "        print(f'Length: {a:3d}; size in bytes: {b:4d}', end = '')\n",
    "        if b_old != b:\n",
    "            print('\\t\\tA jump of: {0} bytes, or a ratio of {1}'.format((b-b_old), (b/b_old)))\n",
    "        else:\n",
    "            print('')\n",
    "        data.append(None)\n",
    "        b_old = b\n",
    "\n",
    "        \n",
    "func1(100)"
   ]
  },
  {
   "cell_type": "code",
   "execution_count": 2,
   "id": "a29c6a8e",
   "metadata": {},
   "outputs": [
    {
     "name": "stdout",
     "output_type": "stream",
     "text": [
      "5050\n"
     ]
    }
   ],
   "source": [
    "# R-5.11\n",
    "# Use standard control structures to compute the sum of all numbers in an \n",
    "# n × n data set, represented as a list of lists.\n",
    "\n",
    "def sum_2d(array):\n",
    "    total = 0\n",
    "    for i in range(len(array)):   #loop over the outer list\n",
    "        for j in range(len(array[i])):\n",
    "            total += array[i][j]\n",
    "    return total\n",
    "\n",
    "\n",
    "\n",
    "#Create a list from 1 to 100, which should have the sum (101)(100)/2 = 5050\n",
    "list_of_lists = [list(range(i, i+10)) for i in range(1,100, 10)]\n",
    "print(sum_2d(list_of_lists))"
   ]
  },
  {
   "cell_type": "code",
   "execution_count": 9,
   "id": "93ae50ca",
   "metadata": {},
   "outputs": [
    {
     "data": {
      "text/plain": [
       "[[1, 2, 3, 4, 5, 6, 7, 8, 9, 10],\n",
       " [11, 12, 13, 14, 15, 16, 17, 18, 19, 20],\n",
       " [21, 22, 23, 24, 25, 26, 27, 28, 29, 30],\n",
       " [31, 32, 33, 34, 35, 36, 37, 38, 39, 40],\n",
       " [41, 42, 43, 44, 45, 46, 47, 48, 49, 50],\n",
       " [51, 52, 53, 54, 55, 56, 57, 58, 59, 60],\n",
       " [61, 62, 63, 64, 65, 66, 67, 68, 69, 70],\n",
       " [71, 72, 73, 74, 75, 76, 77, 78, 79, 80],\n",
       " [81, 82, 83, 84, 85, 86, 87, 88, 89, 90],\n",
       " [91, 92, 93, 94, 95, 96, 97, 98, 99, 100]]"
      ]
     },
     "execution_count": 9,
     "metadata": {},
     "output_type": "execute_result"
    }
   ],
   "source": [
    "list_of_lists"
   ]
  },
  {
   "cell_type": "code",
   "execution_count": 13,
   "id": "547af68e",
   "metadata": {},
   "outputs": [
    {
     "data": {
      "text/plain": [
       "5050"
      ]
     },
     "execution_count": 13,
     "metadata": {},
     "output_type": "execute_result"
    }
   ],
   "source": [
    "sum(sum(i) for i in list_of_lists)"
   ]
  },
  {
   "cell_type": "code",
   "execution_count": 31,
   "id": "212949d9",
   "metadata": {},
   "outputs": [
    {
     "name": "stdout",
     "output_type": "stream",
     "text": [
      "[3, 1, 8, 2, 0, 9, 6, 4, 7, 5]\n",
      "Count of 0 is: 10005 \t 10.01%\n",
      "Count of 1 is: 10107 \t 10.11%\n",
      "Count of 2 is: 9790 \t 9.79%\n",
      "Count of 3 is: 9915 \t 9.92%\n",
      "Count of 4 is: 10057 \t 10.06%\n",
      "Count of 5 is: 10143 \t 10.14%\n",
      "Count of 6 is: 10125 \t 10.12%\n",
      "Count of 7 is: 9974 \t 9.97%\n",
      "Count of 8 is: 9964 \t 9.96%\n",
      "Count of 9 is: 9920 \t 9.92%\n"
     ]
    }
   ],
   "source": [
    "# C-5.14\n",
    "import random\n",
    "\n",
    "def new_shuffle(array):\n",
    "    for i in range(len(array)):\n",
    "        index = random.randrange(len(array)-i) + i\n",
    "        array[i], array[index] = array[index], array[i]\n",
    "    return array\n",
    "a = [1,2,3,4,5,6,7,8,9,0]\n",
    "print(new_shuffle(a))\n",
    "total_ints = []\n",
    "n_tests = 100000\n",
    "for _ in range(n_tests):\n",
    "    new_shuffle(a)\n",
    "    total_ints.append(a[0])\n",
    "    \n",
    "#Test if all of the values are equally likely to be in the first position \n",
    "for i in range(10):\n",
    "    print(f'Count of {i} is: {total_ints.count(i)} \\t {(total_ints.count(i)/n_tests *100):.2f}%')"
   ]
  },
  {
   "cell_type": "code",
   "execution_count": 34,
   "id": "31dd32fc",
   "metadata": {},
   "outputs": [],
   "source": [
    "# C5-31\n",
    "\n",
    "def list_r(S):\n",
    "    total = 0\n",
    "    if not isinstance(S, list):\n",
    "        return S\n",
    "    else:\n",
    "        for element in S:\n",
    "            total += list_r(element)\n",
    "    return total\n",
    "\n",
    "def sum_list(S):\n",
    "    total = list_r(S)\n",
    "    return total"
   ]
  },
  {
   "cell_type": "code",
   "execution_count": 35,
   "id": "ba280c03",
   "metadata": {},
   "outputs": [
    {
     "data": {
      "text/plain": [
       "14"
      ]
     },
     "execution_count": 35,
     "metadata": {},
     "output_type": "execute_result"
    }
   ],
   "source": [
    "l = [[1,1,1,1,1], [2,2], 5]\n",
    "sum_list(l)"
   ]
  },
  {
   "cell_type": "code",
   "execution_count": null,
   "id": "6c71efb0",
   "metadata": {},
   "outputs": [],
   "source": []
  }
 ],
 "metadata": {
  "kernelspec": {
   "display_name": "Python 3",
   "language": "python",
   "name": "python3"
  },
  "language_info": {
   "codemirror_mode": {
    "name": "ipython",
    "version": 3
   },
   "file_extension": ".py",
   "mimetype": "text/x-python",
   "name": "python",
   "nbconvert_exporter": "python",
   "pygments_lexer": "ipython3",
   "version": "3.7.3"
  }
 },
 "nbformat": 4,
 "nbformat_minor": 5
}

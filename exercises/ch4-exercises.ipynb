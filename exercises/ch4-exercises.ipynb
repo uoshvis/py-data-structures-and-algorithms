{
 "cells": [
  {
   "cell_type": "code",
   "execution_count": 1,
   "id": "0dd7a0ee",
   "metadata": {},
   "outputs": [],
   "source": [
    "#-----------R4-1--------------------\n",
    "def find_max(S, index):\n",
    "    if index == len(S) - 1:\n",
    "        return S[index]\n",
    "    return max(S[index], find_max(S, index+1))"
   ]
  },
  {
   "cell_type": "code",
   "execution_count": 7,
   "id": "815bb7f9",
   "metadata": {},
   "outputs": [
    {
     "data": {
      "text/plain": [
       "10"
      ]
     },
     "execution_count": 7,
     "metadata": {},
     "output_type": "execute_result"
    }
   ],
   "source": [
    "find_max([1, 1, -1, 10, 5], 0)"
   ]
  },
  {
   "cell_type": "code",
   "execution_count": 8,
   "id": "58cf73a4",
   "metadata": {},
   "outputs": [],
   "source": [
    "def max_recursive(seq, start):\n",
    "    \n",
    "    if len(seq) == 1:\n",
    "        return seq[0]\n",
    "    if seq[start] <= seq[start+1]:\n",
    "        del seq[start]\n",
    "    elif seq[start] > seq[start+1]:\n",
    "        del seq[start + 1]\n",
    "    else:\n",
    "        return KeyError()\n",
    "    return max_recursive(seq, start)"
   ]
  },
  {
   "cell_type": "code",
   "execution_count": 9,
   "id": "c8c19f9d",
   "metadata": {},
   "outputs": [
    {
     "data": {
      "text/plain": [
       "10"
      ]
     },
     "execution_count": 9,
     "metadata": {},
     "output_type": "execute_result"
    }
   ],
   "source": [
    "max_recursive([1, 1, -1, 10, 5], 0)"
   ]
  },
  {
   "cell_type": "code",
   "execution_count": 17,
   "id": "e64eaf22",
   "metadata": {},
   "outputs": [],
   "source": [
    "#----------C4-9------------------------------\n",
    "def min_max(S, index=0):\n",
    "    if index == len(S)-1:\n",
    "        return S[index], S[index]\n",
    "    else:\n",
    "        min_c, max_c = min_max(S, index+1)\n",
    "        print('->', min_c, max_c)\n",
    "        return min(S[index], min_c), max(S[index], max_c)"
   ]
  },
  {
   "cell_type": "code",
   "execution_count": 18,
   "id": "57cc19e2",
   "metadata": {},
   "outputs": [
    {
     "name": "stdout",
     "output_type": "stream",
     "text": [
      "-> -111 -111\n",
      "(-111, 0)\n",
      "-> 8 8\n",
      "-> 7 8\n",
      "-> 6 8\n",
      "-> 5 8\n",
      "-> 5 774\n",
      "-> 2 774\n",
      "(-45, 774)\n",
      "-> 1 1\n",
      "-> 1 2\n",
      "-> 1 3\n",
      "-> 1 4\n",
      "-> 1 5\n",
      "-> 1 6\n",
      "-> 1 7\n",
      "(1, 8)\n"
     ]
    }
   ],
   "source": [
    "print(min_max([0,-111]))\n",
    "print(min_max([-45,2,774,5,6,7,8]))\n",
    "print(min_max([8,7,6,5,4,3,2,1]))"
   ]
  },
  {
   "cell_type": "code",
   "execution_count": 27,
   "id": "63fa6b4a",
   "metadata": {},
   "outputs": [
    {
     "name": "stdout",
     "output_type": "stream",
     "text": [
      "10 5\n",
      "10 4\n",
      "10 3\n",
      "10 2\n",
      "10 1\n",
      "10 0\n"
     ]
    },
    {
     "data": {
      "text/plain": [
       "50"
      ]
     },
     "execution_count": 27,
     "metadata": {},
     "output_type": "execute_result"
    }
   ],
   "source": [
    "#-----------C4-12----------------------\n",
    "def prod(m, n):\n",
    "    print(m, n)\n",
    "    if not n:\n",
    "        return 0\n",
    "    else:\n",
    "        \n",
    "        return m + prod(m, n-1)\n",
    "    \n",
    "prod(10,5)"
   ]
  },
  {
   "cell_type": "code",
   "execution_count": null,
   "id": "b7f70e84",
   "metadata": {},
   "outputs": [],
   "source": []
  },
  {
   "cell_type": "code",
   "execution_count": null,
   "id": "38e98726",
   "metadata": {},
   "outputs": [],
   "source": []
  }
 ],
 "metadata": {
  "kernelspec": {
   "display_name": "Python 3",
   "language": "python",
   "name": "python3"
  },
  "language_info": {
   "codemirror_mode": {
    "name": "ipython",
    "version": 3
   },
   "file_extension": ".py",
   "mimetype": "text/x-python",
   "name": "python",
   "nbconvert_exporter": "python",
   "pygments_lexer": "ipython3",
   "version": "3.7.3"
  }
 },
 "nbformat": 4,
 "nbformat_minor": 5
}

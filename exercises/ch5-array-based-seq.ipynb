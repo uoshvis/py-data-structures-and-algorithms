{
 "cells": [
  {
   "cell_type": "code",
   "execution_count": 1,
   "id": "c8d90ed2",
   "metadata": {},
   "outputs": [],
   "source": [
    "def insertion_sort(A):\n",
    "    for k in range(1, len(A)):\n",
    "        curr = A[k]\n",
    "        j = k\n",
    "        while j > 0 and A[j-1] > curr:\n",
    "            A[j] = A[j-1]\n",
    "            j -= 1\n",
    "        A[j] = curr"
   ]
  },
  {
   "cell_type": "code",
   "execution_count": 4,
   "id": "121e8648",
   "metadata": {},
   "outputs": [
    {
     "data": {
      "text/plain": [
       "[0, 1, 1, 1, 4, 5, 5, 7, 8, 8, 10, 11]"
      ]
     },
     "execution_count": 4,
     "metadata": {},
     "output_type": "execute_result"
    }
   ],
   "source": [
    "A = [1,5,8,1,4,7,8,10,1,5,11,0]\n",
    "insertion_sort(A)\n",
    "A"
   ]
  },
  {
   "cell_type": "code",
   "execution_count": 27,
   "id": "4d6f9cd8",
   "metadata": {},
   "outputs": [],
   "source": [
    "class CaesarCipher:\n",
    "    def __init__(self, shift):\n",
    "        encoder = [None] * 26\n",
    "        decoder = [None] * 26\n",
    "        \n",
    "        for k in range(26):\n",
    "            encoder[k] = chr((k + shift) % 26 + ord('A'))\n",
    "            decoder[k] = chr((k - shift) % 26 + ord('A'))\n",
    "        self._forward = ''.join(encoder)\n",
    "        self._backward = ''.join(decoder)\n",
    "        \n",
    "    def encrypt(self, message):\n",
    "        return self._transform(message, self._forward)\n",
    "    \n",
    "    def decrypt(self, secret):\n",
    "        return self._transform(secret, self._backward)\n",
    "    \n",
    "    def _transform(self, original, code):\n",
    "        msg = list(original)\n",
    "        for k in range(len(msg)):\n",
    "            if msg[k].isupper():\n",
    "                j = ord(msg[k]) - ord('A')\n",
    "                msg[k] = code[j]\n",
    "        return ''.join(msg)\n"
   ]
  },
  {
   "cell_type": "code",
   "execution_count": 28,
   "id": "1f2f5fb2",
   "metadata": {},
   "outputs": [
    {
     "name": "stdout",
     "output_type": "stream",
     "text": [
      "Secret:  WKH HDJOH LV LQ SODB; PHHW DW MRH V.\n",
      "Message:  THE EAGLE IS IN PLAY; MEET AT JOE S.\n"
     ]
    }
   ],
   "source": [
    "cipher = CaesarCipher(3)\n",
    "message = \"THE EAGLE IS IN PLAY; MEET AT JOE S.\"\n",
    "coded = cipher.encrypt(message)\n",
    "print('Secret: ', coded)\n",
    "answer = cipher.decrypt(coded)\n",
    "print('Message: ', answer)"
   ]
  },
  {
   "cell_type": "code",
   "execution_count": 32,
   "id": "bf1c75b4",
   "metadata": {},
   "outputs": [
    {
     "name": "stdout",
     "output_type": "stream",
     "text": [
      "DEFGHIJKLMNOPQRSTUVWXYZABC\n",
      "XYZABCDEFGHIJKLMNOPQRSTUVW\n"
     ]
    }
   ],
   "source": [
    "print(cipher._forward)\n",
    "print(cipher._backward)"
   ]
  },
  {
   "cell_type": "code",
   "execution_count": 37,
   "id": "dfd39d9b",
   "metadata": {},
   "outputs": [],
   "source": [
    "c = 5\n",
    "r = 2\n",
    "data = [ [0] * c for _ in range(r) ]"
   ]
  },
  {
   "cell_type": "code",
   "execution_count": 38,
   "id": "09e2506e",
   "metadata": {},
   "outputs": [
    {
     "data": {
      "text/plain": [
       "[[0, 0, 0, 0, 0], [0, 0, 0, 0, 0]]"
      ]
     },
     "execution_count": 38,
     "metadata": {},
     "output_type": "execute_result"
    }
   ],
   "source": [
    "data\n"
   ]
  },
  {
   "cell_type": "code",
   "execution_count": null,
   "id": "c9972028",
   "metadata": {},
   "outputs": [],
   "source": []
  }
 ],
 "metadata": {
  "kernelspec": {
   "display_name": "Python 3",
   "language": "python",
   "name": "python3"
  },
  "language_info": {
   "codemirror_mode": {
    "name": "ipython",
    "version": 3
   },
   "file_extension": ".py",
   "mimetype": "text/x-python",
   "name": "python",
   "nbconvert_exporter": "python",
   "pygments_lexer": "ipython3",
   "version": "3.7.3"
  }
 },
 "nbformat": 4,
 "nbformat_minor": 5
}
